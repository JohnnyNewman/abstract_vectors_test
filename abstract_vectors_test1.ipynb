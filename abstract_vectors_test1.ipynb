{
 "cells": [
  {
   "cell_type": "code",
   "execution_count": 2,
   "metadata": {
    "collapsed": true
   },
   "outputs": [],
   "source": [
    "from gensim.models.word2vec import *\n",
    "model = Word2Vec.load(\"vectors.txt\")"
   ]
  },
  {
   "cell_type": "code",
   "execution_count": 11,
   "metadata": {
    "collapsed": false
   },
   "outputs": [
    {
     "name": "stdout",
     "output_type": "stream",
     "text": [
      "[(u'family', 0.810466468334198),\n",
      " (u'evolutionary', 0.8012260794639587),\n",
      " (u'unified', 0.7962583303451538),\n",
      " (u'variant', 0.7943179607391357),\n",
      " (u'population', 0.7910475134849548),\n",
      " (u'genetic_algorithm', 0.7876588702201843),\n",
      " (u'algorithms', 0.7724930047988892),\n",
      " (u'module', 0.7722138166427612),\n",
      " (u'l', 0.7682982683181763),\n",
      " (u'graph', 0.7642050981521606),\n",
      " (u'address', 0.7596021294593811),\n",
      " (u'comprehensive', 0.7583154439926147),\n",
      " (u'visual', 0.757222056388855),\n",
      " (u'genetic', 0.7550467252731323),\n",
      " (u'quantum', 0.7531095743179321),\n",
      " (u'implementation', 0.7526226043701172),\n",
      " (u'multidisciplinary_design', 0.7506061792373657),\n",
      " (u'multi_objective', 0.7488916516304016),\n",
      " (u'csso', 0.7483001351356506),\n",
      " (u'ga', 0.747978687286377)]\n"
     ]
    }
   ],
   "source": [
    "from pprint import pprint  # pretty-printer\n",
    "pprint(model.wv.most_similar_cosmul(positive=[\"evolutionary_algorithm\"], topn=20))"
   ]
  }
 ],
 "metadata": {
  "kernelspec": {
   "display_name": "Python 2",
   "language": "python",
   "name": "python2"
  },
  "language_info": {
   "codemirror_mode": {
    "name": "ipython",
    "version": 2
   },
   "file_extension": ".py",
   "mimetype": "text/x-python",
   "name": "python",
   "nbconvert_exporter": "python",
   "pygments_lexer": "ipython2",
   "version": "2.7.11"
  }
 },
 "nbformat": 4,
 "nbformat_minor": 0
}
