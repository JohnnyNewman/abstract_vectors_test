{
 "cells": [
  {
   "cell_type": "code",
   "execution_count": 1,
   "metadata": {
    "collapsed": false
   },
   "outputs": [
    {
     "name": "stderr",
     "output_type": "stream",
     "text": [
      "D:\\USERS\\fbockni\\Programme\\gensim-1.0.1\\gensim\\utils.py:855: UserWarning: detected Windows; aliasing chunkize to chunkize_serial\n",
      "  warnings.warn(\"detected Windows; aliasing chunkize to chunkize_serial\")\n"
     ]
    }
   ],
   "source": [
    "from gensim.models.word2vec import *\n",
    "model = Word2Vec.load(\"vectors.txt\")"
   ]
  },
  {
   "cell_type": "code",
   "execution_count": 2,
   "metadata": {
    "collapsed": false
   },
   "outputs": [
    {
     "name": "stdout",
     "output_type": "stream",
     "text": [
      "[(u'family', 0.810466468334198),\n",
      " (u'evolutionary', 0.8012260794639587),\n",
      " (u'unified', 0.7962583303451538),\n",
      " (u'variant', 0.7943179607391357),\n",
      " (u'population', 0.7910475134849548)]\n"
     ]
    }
   ],
   "source": [
    "from pprint import pprint  # pretty-printer\n",
    "pprint(model.wv.most_similar_cosmul(positive=[\"evolutionary_algorithm\"], topn=25))"
   ]
  },
  {
   "cell_type": "code",
   "execution_count": 3,
   "metadata": {
    "collapsed": false
   },
   "outputs": [
    {
     "name": "stdout",
     "output_type": "stream",
     "text": [
      "[(u'cooling', 0.8259630799293518),\n",
      " (u'xfem', 0.7637981176376343),\n",
      " (u'changing', 0.7611742615699768),\n",
      " (u'forward', 0.7576001882553101),\n",
      " (u'simulator', 0.7538465261459351)]\n"
     ]
    }
   ],
   "source": [
    "pprint(model.wv.most_similar_cosmul(positive=[\"heat_transfer\"], topn=5))"
   ]
  },
  {
   "cell_type": "code",
   "execution_count": 4,
   "metadata": {
    "collapsed": false
   },
   "outputs": [
    {
     "name": "stdout",
     "output_type": "stream",
     "text": [
      "[(u'cleaning', 0.8487973213195801),\n",
      " (u'heat_transfer', 0.8259630799293518),\n",
      " (u'ice', 0.8250847458839417),\n",
      " (u'operational', 0.8070653676986694),\n",
      " (u'prototype', 0.7990700602531433)]\n"
     ]
    }
   ],
   "source": [
    "pprint(model.wv.most_similar_cosmul(positive=[\"cooling\"], topn=5))"
   ]
  },
  {
   "cell_type": "code",
   "execution_count": 5,
   "metadata": {
    "collapsed": false
   },
   "outputs": [
    {
     "name": "stdout",
     "output_type": "stream",
     "text": [
      "positive: cooling\n",
      "[(u'cleaning', 0.8487973213195801),\n",
      " (u'heat_transfer', 0.8259630799293518),\n",
      " (u'ice', 0.8250847458839417),\n",
      " (u'operational', 0.8070653676986694),\n",
      " (u'prototype', 0.7990700602531433),\n",
      " (u'forward', 0.7973671555519104),\n",
      " (u'progressive', 0.793096125125885),\n",
      " (u'polygon', 0.7922611832618713),\n",
      " (u'blade', 0.7893752455711365),\n",
      " (u'hazard', 0.7878174185752869),\n",
      " (u'collapse', 0.7853676676750183),\n",
      " (u'changing', 0.7795412540435791),\n",
      " (u'adaptation', 0.7786384224891663),\n",
      " (u'disk', 0.7758524417877197),\n",
      " (u'scenario', 0.7747187614440918),\n",
      " (u'rise', 0.7746067047119141),\n",
      " (u'panel', 0.7745261788368225),\n",
      " (u'machinery', 0.772706151008606),\n",
      " (u'flutter', 0.7711888551712036),\n",
      " (u'sound', 0.7698795795440674)]\n",
      "\n",
      "\n",
      "positive: heat_transfer\n",
      "[(u'cooling', 0.8259630799293518),\n",
      " (u'xfem', 0.7637981176376343),\n",
      " (u'changing', 0.7611742615699768),\n",
      " (u'forward', 0.7576001882553101),\n",
      " (u'simulator', 0.7538465261459351),\n",
      " (u'machinery', 0.752183198928833),\n",
      " (u'typical', 0.7511576414108276),\n",
      " (u'flow', 0.7508886456489563),\n",
      " (u'rotating', 0.7451310157775879),\n",
      " (u'porous', 0.7449824810028076),\n",
      " (u'shift', 0.7444665431976318),\n",
      " (u'embedded', 0.7442415356636047),\n",
      " (u'cleaning', 0.7418707013130188),\n",
      " (u'ice', 0.7399477958679199),\n",
      " (u'modular', 0.7338762879371643),\n",
      " (u'prototype', 0.7316727042198181),\n",
      " (u'clustering', 0.7310661673545837),\n",
      " (u'baseline', 0.7307676076889038),\n",
      " (u'attractive', 0.7306107878684998),\n",
      " (u'fsi', 0.7298313975334167)]\n",
      "\n",
      "\n",
      "positive: ['heat_transfer']\n",
      "negative: ['ice']\n",
      "[(u'differentiation', 1.8086817264556885),\n",
      " (u'penalization', 1.6831055879592896),\n",
      " (u'analytic', 1.6778090000152588),\n",
      " (u'mechanic', 1.6226685047149658),\n",
      " (u'posed', 1.5514553785324097),\n",
      " (u'sensitivity_equation', 1.5375694036483765),\n",
      " (u'mathematical_programming', 1.5268042087554932),\n",
      " (u'sensitivity_analysis', 1.5228025913238525),\n",
      " (u'continuous', 1.514618992805481),\n",
      " (u'adjoint', 1.5074138641357422),\n",
      " (u'non', 1.4935442209243774),\n",
      " (u'dmo', 1.4906930923461914),\n",
      " (u'penalized', 1.4790164232254028),\n",
      " (u'elasticity', 1.4777203798294067),\n",
      " (u'continuum', 1.4771995544433594),\n",
      " (u'shape_sensitivity', 1.4718031883239746),\n",
      " (u'direct', 1.4682644605636597),\n",
      " (u'implicit', 1.4676547050476074),\n",
      " (u'second_order', 1.4583605527877808),\n",
      " (u'method_asymptote', 1.4564553499221802)]\n",
      "\n",
      "\n",
      "done\n"
     ]
    }
   ],
   "source": [
    "input_list = [\n",
    "    [\"cooling\"], [\"heat_transfer\"], [[\"heat_transfer\"], [\"ice\"]]\n",
    "             ]\n",
    "\n",
    "for input in input_list:\n",
    "    if len(input) == 1:\n",
    "        print \"positive:\", input[0]\n",
    "        pprint(model.wv.most_similar_cosmul(positive=input[0], topn=20))\n",
    "    elif len(input) == 2:\n",
    "        print \"positive:\", input[0]\n",
    "        print \"negative:\", input[1]\n",
    "        pprint(model.wv.most_similar_cosmul(positive=input[0], negative=input[1], topn=20))\n",
    "    print(\"\\n\")\n",
    "\n",
    "print \"done\""
   ]
  }
 ],
 "metadata": {
  "kernelspec": {
   "display_name": "Python 2",
   "language": "python",
   "name": "python2"
  },
  "language_info": {
   "codemirror_mode": {
    "name": "ipython",
    "version": 2
   },
   "file_extension": ".py",
   "mimetype": "text/x-python",
   "name": "python",
   "nbconvert_exporter": "python",
   "pygments_lexer": "ipython2",
   "version": "2.7.11"
  }
 },
 "nbformat": 4,
 "nbformat_minor": 0
}
