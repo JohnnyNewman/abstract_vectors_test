{
 "cells": [
  {
   "cell_type": "markdown",
   "metadata": {},
   "source": [
    "Benötigte Module importieren:"
   ]
  },
  {
   "cell_type": "code",
   "execution_count": 1,
   "metadata": {
    "collapsed": false
   },
   "outputs": [
    {
     "name": "stderr",
     "output_type": "stream",
     "text": [
      "D:\\USERS\\fbockni\\Programme\\gensim-1.0.1\\gensim\\utils.py:855: UserWarning: detected Windows; aliasing chunkize to chunkize_serial\n",
      "  warnings.warn(\"detected Windows; aliasing chunkize to chunkize_serial\")\n"
     ]
    }
   ],
   "source": [
    "from pprint import pprint  # pretty-printer\n",
    "import operator\n",
    "import logging\n",
    "logging.basicConfig(format='%(asctime)s : %(levelname)s : %(message)s', level=logging.INFO)\n",
    "\n",
    "from gensim import corpora, models, similarities"
   ]
  },
  {
   "cell_type": "markdown",
   "metadata": {},
   "source": [
    "Abstracts laden:"
   ]
  },
  {
   "cell_type": "code",
   "execution_count": 2,
   "metadata": {
    "collapsed": true
   },
   "outputs": [],
   "source": [
    "documents = []\n",
    "\n",
    "for line in open('abstracts_1615-1488_clean.txt'):\n",
    "    documents.append(line)\n",
    "\n",
    "stoplist = [\"using\", \"based\"]\n",
    "\n",
    "# texts = [[word for word in document.lower().split()[1:] if word not in stoplist] for document in documents]\n",
    "texts = [[word for word in document.lower().replace(\"_\",\" \").split()[1:] if word not in stoplist] for document in documents]"
   ]
  },
  {
   "cell_type": "markdown",
   "metadata": {},
   "source": [
    "<a href=https://radimrehurek.com/gensim/models/phrases.html>Bigramme</a> <a href=https://papers.nips.cc/paper/5021-distributed-representations-of-words-and-phrases-and-their-compositionality.pdf>[1]</a> ermitteln und zusammenfügen:\n",
    "\n",
    "$score(w_i,w_j) = \\frac{count(w_i w_j) - \\delta}{count(w_i) \\cdot count(w_j)} $\n"
   ]
  },
  {
   "cell_type": "code",
   "execution_count": 3,
   "metadata": {
    "collapsed": true
   },
   "outputs": [],
   "source": [
    "from gensim.models.phrases import *\n",
    "\n",
    "phrases = Phrases(texts, min_count=10, threshold=5)\n",
    "bigram = Phraser(phrases)\n",
    "\n",
    "texts2 = [bigram[t] for t in texts]"
   ]
  },
  {
   "cell_type": "markdown",
   "metadata": {},
   "source": [
    "\n",
    "\n",
    "<a href=https://en.wikipedia.org/wiki/Tf%E2%80%93idf>tf-idf-Werte</a> ermitteln:\n",
    "\n",
    "\n",
    "$w_{i,j} = \\operatorname{tf}_{i,j} \\cdot \\operatorname{idf}_i = \\operatorname{tf}_{i,j} \\cdot \\log \\frac{N}{n_i}$"
   ]
  },
  {
   "cell_type": "code",
   "execution_count": 4,
   "metadata": {
    "collapsed": true
   },
   "outputs": [],
   "source": [
    "dictionary = corpora.Dictionary(texts2)\n",
    "corpus = [dictionary.doc2bow(text) for text in texts2]\n",
    "tfidf = models.TfidfModel(corpus, normalize=True) "
   ]
  },
  {
   "cell_type": "markdown",
   "metadata": {},
   "source": [
    "\n",
    "\n",
    "Werte für die ersten 10 Abstracts ausgeben:"
   ]
  },
  {
   "cell_type": "code",
   "execution_count": 5,
   "metadata": {
    "collapsed": false
   },
   "outputs": [
    {
     "name": "stdout",
     "output_type": "stream",
     "text": [
      "1\n",
      "[(u'cut', 0.4148274289722549, 2), (u'shell_structure', 0.3657232055666126, 2), (u'out', 0.3444436249672701, 2), (u'constant', 0.2849269206461141, 2), (u'undercut', 0.24101893921389106, 1), (u'thickness', 0.2333201778761727, 2), (u'mid', 0.22960899573725707, 1), (u'drawing', 0.22960899573725707, 1), (u'deep', 0.20741371448612744, 1), (u'their', 0.18186352651290238, 2), (u'3d', 0.17462628455352316, 1), (u'wall', 0.17222181248363505, 1), (u'shell', 0.13928883507620626, 1), (u'manufacturing', 0.1271234089026658, 1), (u'optimized', 0.11497210473119009, 1), (u'surface', 0.11129222879968907, 1), (u'step', 0.10838886156834032, 1), (u'stiffness', 0.10656501645215305, 1), (u'mass', 0.10525014546145242, 1), (u'density', 0.10482136677313006, 1)] \n",
      "+\n",
      "[(u'structure', 0.08475429828541091, 2), (u'topology', 0.08232262847638161, 1), (u'order', 0.07327938767112423, 1), (u'new', 0.07139933702409004, 1), (u'performance', 0.0645062357041224, 1), (u'constraint', 0.05059208800625463, 1), (u'approach', 0.04211303068133082, 1), (u'method', 0.02218769558745926, 1), (u'design', 0.019271213043301975, 1)] \n",
      "+\n",
      "new approach shell_structure their mid surface design cut out manufacturing constraint 3d topology density method order optimized structure undercut constant wall thickness structure deep drawing step cut out shell thickness performance shell_structure their stiffness constant mass \n",
      "\n",
      "\n",
      "2\n",
      "[(u'parallel', 0.4560292745992843, 4), (u'to', 0.385753974265256, 2), (u'cpu', 0.36749221003789184, 2), (u'thread', 0.22774638031719038, 1), (u'strategy', 0.21616638919385095, 3), (u'units', 0.20574624266806815, 1), (u'graphics', 0.20574624266806815, 1), (u'implementation', 0.18058222999938703, 2), (u'speedup', 0.17666364261830428, 1), (u'serial', 0.17666364261830428, 1), (u'isogeometric', 0.16174596736982372, 1), (u'parallelization', 0.16174596736982372, 1), (u'processing', 0.134291390297938, 1), (u'magnitude', 0.12313820076350311, 1), (u'detail', 0.11490144790309617, 1), (u'complexity', 0.11400731864982107, 1), (u'benchmark', 0.11313768919667042, 1), (u'key', 0.11313768919667042, 1), (u'level_set', 0.10358076727029593, 1), (u'issue', 0.10173134187357723, 1)] \n",
      "+\n",
      "[(u'advantage', 0.09029111499969351, 1), (u'multi', 0.09029111499969351, 1), (u'initial', 0.08787936110413958, 1), (u'step', 0.08673889747512456, 1), (u'computational', 0.0845740024405992, 1), (u'efficiency', 0.07301010613886405, 1), (u'domain', 0.07276874003663723, 1), (u'proposed', 0.06310140307670407, 1), (u'order', 0.058642310679109, 1), (u'new', 0.05713778781613641, 1), (u'different', 0.056699994813350287, 1), (u'topology_optimization', 0.0490145931787808, 1), (u'example', 0.04516266153397131, 1), (u'analysis', 0.04496177801854874, 1), (u'paper', 0.03528493344515541, 1), (u'method', 0.017755848939851274, 1), (u'design', 0.015421914652460065, 1)] \n",
      "+\n",
      "new level_set topology_optimization to method parallel strategy graphics processing units isogeometric analysis strategy parallel implementation initial design domain key issue parallel implementation detail computational complexity parallelization different step to paper advantage proposed strategy efficiency serial cpu multi thread parallel cpu benchmark example speedup order magnitude \n",
      "\n",
      "\n",
      "3\n",
      "[(u'l/d', 0.3978905042973186, 3), (u'wing', 0.3733719253764306, 5), (u'glider', 0.2652603361982124, 2), (u'flight', 0.26492400341385486, 3), (u'alleviation', 0.23963637720889525, 2), (u'speed', 0.19917958497511376, 3), (u'drag', 0.18013938692935816, 2), (u'mass', 0.14715127825790691, 3), (u'aircraft', 0.14342129384395902, 2), (u'ratio', 0.1348993969943388, 2), (u'camber', 0.1326301680991062, 1), (u'cambered', 0.1326301680991062, 1), (u'm/', 0.1326301680991062, 1), (u'fwg', 0.1326301680991062, 1), (u'cmwg', 0.1326301680991062, 1), (u'stall', 0.11981818860444762, 1), (u'payload', 0.11981818860444762, 1), (u'trimmed', 0.112323661040064, 1), (u'maneuverability', 0.112323661040064, 1), (u'attack', 0.10288167295933767, 1), (u'envelope', 0.10288167295933767, 1), (u'negligible', 0.10288167295933767, 1)] \n",
      "+\n",
      "[(u'aerodynamics', 0.0995116815454054, 1), (u'lift', 0.09666239440347536, 1), (u'gain', 0.09666239440347536, 1), (u'viscous', 0.09419422961513048, 1), (u'morphing', 0.09419422961513048, 1), (u'adaptation', 0.09201715398102175, 1), (u'performance', 0.0901868115986968, 3), (u'comparative', 0.08669970205074683, 1), (u'load_case', 0.0838504149088168, 1), (u'conclusion', 0.0838504149088168, 1), (u'required', 0.07920517448636316, 1), (u'varying', 0.07920517448636316, 1), (u'line', 0.07920517448636316, 1), (u'velocity', 0.07725771397002053, 1), (u'load', 0.07475572739242932, 2), (u'penalty', 0.0710384354141582, 1), (u'angle', 0.06976318640563686, 1), (u'structural', 0.06649385095904234, 3), (u'fixed', 0.065886758400288, 1), (u'equivalent', 0.06444573447536195, 1), (u'improvement', 0.06032119832491055, 1), (u'range', 0.05959625131974522, 1), (u'critical', 0.05959625131974522, 1), (u'calculation', 0.05924416868820707, 1), (u'one', 0.05889866742732094, 1), (u'theory', 0.057899300843028766, 1), (u'combination', 0.05634512706325781, 1), (u'potential', 0.0560493802853909, 1), (u'significant', 0.055758291131154755, 1), (u'reduction', 0.05547171516929384, 1), (u'beam', 0.0528266707605269, 1), (u'mean', 0.05117734217971379, 1), (u'given', 0.05029699583461581, 1), (u'low', 0.048263763566771097, 1), (u'large', 0.04807222009847093, 1), (u'condition', 0.04525017508274102, 1), (u'good', 0.04398583417679705, 1), (u'weight', 0.043833703447385935, 1), (u'result', 0.04232062567153899, 2), (u'strategy', 0.04196215178221097, 1), (u'several', 0.039769869418095266, 1), (u'study', 0.0395282479476622, 1), (u'analysis', 0.026183898810288604, 1), (u'model', 0.024512539924181675, 1), (u'optimization', 0.018518097071782876, 2)] \n",
      "+\n",
      "load alleviation mean required wing structural weight aircraft performance comparative study drag lift drag ratio l/d performance fixed wing glider cambered morphing wing glider aircraft good l/d given speed payload mass combination line theory viscous calculation aerodynamics equivalent beam model structural analysis m/ stall angle attack critical load_case result fwg optimization several trimmed flight condition varying mass velocity result one cmwg optimization conclusion improvement l/d ratio flight envelope potential reduction wing structural mass load alleviation strategy wing camber adaptation significant performance gain large range flight speed negligible penalty low speed maneuverability \n",
      "\n",
      "\n",
      "4\n",
      "[(u'steel_frame', 0.5462948375775731, 4), (u'inelastic', 0.47646229884604396, 3), (u'failure_probability', 0.22665788535212528, 2), (u'nonlinear', 0.1958539774737276, 3), (u'hs', 0.1778365637563781, 1), (u'implement', 0.1778365637563781, 1), (u'procedure', 0.16408598500546898, 3), (u'effective', 0.1638267736035756, 2), (u'practical', 0.162188801417624, 2), (u'harmony', 0.15882076628201466, 1), (u'latin_hypercube', 0.13106851019432536, 1), (u'efficiency_accuracy', 0.12255972091015478, 1), (u'advanced', 0.11755791192002983, 1), (u'column', 0.11755791192002983, 1), (u'realistic', 0.11755791192002983, 1), (u'analysis', 0.11658800665578403, 3), (u'proposed', 0.10908327214967714, 2)] \n",
      "+\n",
      "[(u'detail', 0.09931495419182412, 1), (u'importance', 0.09854211444566638, 1), (u'improved', 0.09854211444566638, 1), (u'frame', 0.09064984541511363, 1), (u'sampling', 0.08845395403575308, 1), (u'combination', 0.08362857006982265, 1), (u'behavior', 0.08275757638456087, 1), (u'mathematical', 0.08029915671746067, 1), (u'robust', 0.07914791101723807, 1), (u'beam', 0.07840640650774214, 1), (u'search', 0.0756259025131673, 1), (u'discrete', 0.07106837848336853, 1), (u'reliability', 0.06814993884162218, 1), (u'result', 0.06281312322532547, 2), (u'use', 0.061678099819088436, 1), (u'numerical', 0.058491053141773455, 1), (u'optimization', 0.05496986373954699, 4), (u'new', 0.049386991053128784, 1), (u'technique', 0.04398590581754462, 1), (u'example', 0.039036302355475845, 1), (u'paper', 0.030498497736273906, 1), (u'structure', 0.029312315391132604, 1), (u'approach', 0.029129624393813197, 1), (u'design', 0.026659833713340367, 2), (u'method', 0.01534725067681902, 1)] \n",
      "+\n",
      "effective numerical procedure reliability design optimization nonlinear inelastic steel_frame harmony search technique optimization robust method failure_probability analysis practical advanced analysis beam column approach nonlinear inelastic behavior frame detail implement hs discrete optimization steel_frame failure_probability structure combination improved latin_hypercube new effective importance sampling efficiency_accuracy proposed procedure mathematical example steel_frame result paper proposed procedure practical design use nonlinear inelastic analysis optimization steel_frame realistic result \n",
      "\n",
      "\n",
      "5\n",
      "[(u'vehicle_body', 0.7195386409349096, 7), (u'crashworthiness', 0.31254824311372276, 4), (u'factor', 0.16626885761839158, 3), (u'module', 0.15437960054417516, 2), (u'material', 0.14946342151621878, 5), (u'safety', 0.13588343419509977, 2), (u'integrated', 0.13588343419509977, 2), (u'vehicle', 0.12053634547560227, 2), (u'roof', 0.11971286195355922, 1), (u'saturated', 0.1122249224831665, 1), (u'multivariable', 0.1069121448799666, 1), (u'screening', 0.1027912344192728, 1)] \n",
      "+\n",
      "[(u'relevant', 0.09942420540957388, 1), (u'basis_function', 0.09942420540957388, 1), (u'crash', 0.09657742294473479, 1), (u'crucial', 0.09193626593918114, 1), (u'frontal', 0.09193626593918114, 1), (u'radius', 0.09193626593918114, 1), (u'comprehensive', 0.08999051734568017, 1), (u'latin_hypercube', 0.08823037364153523, 1), (u'sorting', 0.08823037364153523, 1), (u'non_dominated', 0.08514529714734291, 1), (u'balance', 0.08514529714734291, 1), (u'ii', 0.08019112364748322, 1), (u'structure', 0.07892777709684, 4), (u'index', 0.07718980027208758, 1), (u'fact', 0.07542965656794261, 1), (u'variable', 0.07261446357446401, 2), (u'aspect', 0.06909631373085301, 1), (u'industry', 0.06794171709754988, 1), (u'improved', 0.06633483179199588, 1), (u'surrogate_model', 0.06582884038566081, 1), (u'large_number', 0.06582884038566081, 1), (u'design_variable', 0.06337702813763127, 2), (u'parameter', 0.062445842798847996, 2), (u'corresponding', 0.060268172737801134, 1), (u'consideration', 0.05990246710349787, 1), (u'sampling', 0.05954386300015766, 1), (u'continuous', 0.056901143728102205, 1), (u'optimal_solution', 0.05629559665726038, 1), (u'evaluation', 0.056000109856764076, 1), (u'significant', 0.05570927658559613, 1), (u'development', 0.05514100002395726, 1), (u'accurate', 0.05458968950029798, 1), (u'design', 0.05383918119451679, 6), (u'multi', 0.052535626631245454, 1), (u'standard', 0.052294217559118186, 1), (u'analytical', 0.048807657186867644, 1), (u'property', 0.047840549788725116, 1), (u'genetic_algorithm', 0.04710175002990525, 1), (u'weight', 0.04379517125762475, 1), (u'level', 0.043053403635232086, 1), (u'proposed_method', 0.039856807894899565, 1), (u'objective', 0.038444589074095314, 1), (u'case', 0.036408423991333226, 1), (u'finite_element', 0.031925787538856006, 1), (u'technique', 0.02960965146768994, 1), (u'analysis', 0.026160881750850382, 1), (u'optimal', 0.02570060793158481, 1), (u'model', 0.024490992079359005, 1), (u'method', 0.020662379691024708, 2), (u'paper', 0.02053043745433116, 1), (u'problem', 0.012257720015024622, 1), (u'optimization', 0.009250909332786656, 1)] \n",
      "+\n",
      "development vehicle industry crashworthiness crucial aspect vehicle_body design fact crashworthiness multivariable optimization design problem vehicle_body structure material crashworthiness large_number design_variable material structure variable paper integrated design technique material structure vehicle_body crash safety consideration finite_element model vehicle_body relevant vehicle safety standard material parameter vehicle_body analytical factor factor screening significant factor level saturated design multi index comprehensive balance analysis method improved evaluation method material parameter corresponding continuous variable structure design_variable integrated design vehicle_body weight crashworthiness property design objective optimal latin_hypercube sampling radius basis_function accurate surrogate_model non_dominated sorting genetic_algorithm ii optimal_solution case roof module frontal module vehicle_body proposed_method \n",
      "\n",
      "\n",
      "6\n",
      "[(u'adjoint', 0.4767984899864898, 6), (u'shape_sensitivity', 0.42153224805843514, 4), (u'numerical', 0.2719502244964139, 5), (u'heat_conduction', 0.25399611691099816, 2), (u'continuous', 0.23580470786621038, 3), (u'transient', 0.21863104745603784, 2), (u'implementation', 0.21771351643729628, 3), (u'beginner', 0.1830503673770103, 1), (u'tutorial', 0.1830503673770103, 1), (u'lengthy', 0.16536783264953017, 1), (u'explanation', 0.15502421291625473, 1), (u'guide', 0.14768529792205, 1), (u'analysis', 0.14455149579556606, 4), (u'isogeometric', 0.13000276319456988, 1), (u'boundary', 0.1262774774861514, 2), (u'primary', 0.10931552372801892, 1), (u'benchmark_problem', 0.10662772374949243, 1), (u'future', 0.10538306201460879, 1), (u'loading_condition', 0.1009352190318951, 1)] \n",
      "+\n",
      "[(u'aspect', 0.09544761907184039, 1), (u'detailed', 0.09463769373960956, 1), (u'integration', 0.08770052728712864, 1), (u'problem', 0.08466227266773324, 5), (u'state', 0.08325268430441496, 1), (u'field', 0.07290906457113948, 1), (u'time', 0.056624715643667625, 1), (u'study', 0.054555162013987385, 1), (u'objective', 0.053106226587008205, 1), (u'procedure', 0.05086045137056267, 1), (u'variable', 0.0501537439852358, 1), (u'its', 0.04933075309309754, 1), (u'formulation', 0.046764721866828854, 1), (u'algorithm', 0.03670751017180262, 1), (u'paper', 0.028360143511451164, 1), (u'approach', 0.027087246571513936, 1), (u'method', 0.014271202321651771, 1), (u'design', 0.012395310691032892, 1)] \n",
      "+\n",
      "problem continuous adjoint shape_sensitivity analysis numerical implementation its lengthy formulation paper numerical implementation continuous adjoint shape_sensitivity analysis transient heat_conduction problem isogeometric analysis tutorial guide beginner adjoint boundary loading_condition design objective primary state variable field numerical analysis procedure adjoint problem time numerical integration algorithm shape_sensitivity boundary approach adjoint shape_sensitivity detailed explanation transient heat_conduction problem numerical implementation aspect continuous adjoint method problem benchmark_problem future study \n",
      "\n",
      "\n",
      "7\n",
      "[(u'nano', 0.4115310665049316, 3), (u'silicon', 0.3239533209842299, 2), (u'carbide', 0.3239533209842299, 2), (u'particle', 0.23610091225922458, 2), (u'reinforcement', 0.21176672555142423, 2), (u'law', 0.201692417401111, 2), (u'polynomial', 0.17515549104140327, 2), (u'expansion', 0.17515549104140327, 2), (u'fgms', 0.16197666049211495, 1), (u'static', 0.15012990939390558, 2), (u'carbon', 0.13717702216831054, 1), (u'case', 0.13351042908641395, 3), (u'plate', 0.13025105953869795, 2), (u'optimization_process', 0.12784263749360358, 2), (u'graded', 0.12564584702435994, 1), (u'turn', 0.12564584702435994, 1), (u'aluminum', 0.12153019247201131, 1), (u'supported', 0.11805045612961229, 1), (u'composition', 0.11805045612961229, 1), (u'tube', 0.11503617140321734, 1), (u'transverse', 0.11503617140321734, 1), (u'exponential', 0.11237738384450609, 1), (u'dimensional', 0.1121520660183371, 2), (u'constituent', 0.10999901732806072, 1), (u'volume_fraction', 0.10999901732806072, 1), (u'dynamic', 0.10934199960179455, 2), (u'cost', 0.10781143922331575, 2), (u'important_role', 0.10407651042093986, 1)] \n",
      "+\n",
      "[(u'less', 0.09220069341300526, 1), (u'flexibility', 0.09220069341300526, 1), (u'grid', 0.0893150335566049, 1), (u'aim', 0.0851993790042563, 1), (u'amount', 0.08374251201061891, 1), (u'more', 0.08171964266185726, 1), (u'power', 0.08171964266185726, 1), (u'coefficient', 0.0781479566867894, 1), (u'design_variable', 0.07746828245839553, 2), (u'certain', 0.07506495469695279, 1), (u'material', 0.07307805301360679, 2), (u'pressure', 0.07151670964154944, 1), (u'multi', 0.064216402734441, 1), (u'type', 0.0580213741640065, 1), (u'criterion', 0.05546313734441547, 1), (u'work', 0.05526248176892189, 1), (u'distribution', 0.052098867256885624, 1), (u'method', 0.050512910220114435, 4), (u'proposed_method', 0.04871857426301039, 1), (u'structure', 0.04823829319255147, 2), (u'approach', 0.04793764475264695, 2), (u'number', 0.043771295304354384, 1), (u'application', 0.04116593641817966, 1), (u'performance', 0.03671401655836624, 1), (u'optimization', 0.033923272118393896, 3), (u'optimal', 0.031414883485429805, 1), (u'paper', 0.02509517682420621, 1), (u'design', 0.021936596580115635, 2)] \n",
      "+\n",
      "paper method multi dimensional optimization graded material composition method polynomial expansion volume_fraction constituent material approach design_variable coefficient polynomial expansion optimization_process method more flexibility design method power law exponential law turn optimal design less number design_variable grid approach dimensional optimization fgms structure application proposed_method optimization supported aluminum plate silicon carbide nano particle cost important_role type structure cost reinforcement silicon carbide nano particle carbon nano tube aim optimization_process amount reinforcement certain performance criterion static dynamic case work plate transverse pressure distribution static case dynamic case \n",
      "\n",
      "\n",
      "8\n",
      "[(u'artificial', 0.2379873031160216, 2), (u'behavior', 0.23738282059352464, 3), (u'truss', 0.22283091121891405, 3), (u'ground_structure', 0.2219665738191415, 2), (u'scheme', 0.20797432743142263, 3), (u'improved', 0.1884395854035362, 2), (u'raphson', 0.18821788808114728, 1), (u'nonlinear', 0.18726329611656614, 3), (u'reduced', 0.1856031467469285, 2), (u'invalid', 0.17003617454504077, 1), (u'spurious', 0.15940055392756425, 1), (u'member', 0.1590813935739023, 2), (u'undesirable', 0.15185446100893424, 1), (u'stiffness', 0.1409559158062561, 2), (u'convergence', 0.13808846246597425, 2), (u'displacement_field', 0.13367274747282776, 1), (u'newton', 0.13058321977398116, 1), (u'two-', 0.13058321977398116, 1), (u'lattice', 0.13058321977398116, 1), (u'instance', 0.12781954307236118, 1), (u'filtering', 0.12303712685535119, 1), (u'line_search', 0.12303712685535119, 1), (u'thin', 0.12093755316827523, 1), (u'practical_engineering', 0.11718392245488465, 1), (u'constitutive', 0.11718392245488465, 1), (u'multiple_load', 0.1139008096120536, 1), (u'network', 0.10835803094053421, 1), (u'most', 0.10597178043328903, 1), (u'proper', 0.10485541331924468, 1), (u'proposed', 0.10429858692386852, 2)] \n",
      "+\n",
      "[(u'filter', 0.09900220891877813, 1), (u'bar', 0.0981421099640573, 1), (u'order', 0.09692827480154062, 2), (u'application', 0.09567014889641766, 2), (u'structural', 0.09436263541897644, 3), (u'large_number', 0.09350109930757577, 1), (u'real', 0.09350109930757577, 1), (u'few', 0.08895606632112164, 1), (u'final', 0.08779006689718252, 1), (u'performance', 0.08532383170016468, 2), (u'modeling', 0.08508347545847053, 1), (u'material', 0.08491715264109156, 2), (u'issue', 0.08407447921867418, 1), (u'account', 0.08407447921867418, 1), (u'system', 0.08254113891026661, 2), (u'our', 0.08082049538267162, 1), (u'information', 0.0767770200853312, 1), (u'optimized', 0.0760380791656616, 1), (u'same', 0.07567627111283394, 1), (u'field', 0.07496729098220507, 1), (u'standard', 0.07427697040630468, 1), (u'optimization_process', 0.07427697040630468, 1), (u'tool', 0.07360435232336801, 1), (u'iteration', 0.07360435232336801, 1), (u'equation', 0.07077435278501512, 1), (u'computational', 0.06989503018124524, 1), (u'linear', 0.06989503018124524, 1), (u'addition', 0.06960835336107601, 1), (u'size', 0.06849198624703164, 1), (u'dimensional', 0.06516069952848672, 1), (u'condition', 0.06421534792153417, 1), (u'work', 0.06421534792153417, 1), (u'level', 0.06115162511208148, 1), (u'efficient', 0.06074176258649938, 1), (u'use', 0.05897273274359944, 1), (u'structure', 0.05605319705787614, 2), (u'topology', 0.05444498520617505, 1), (u'load', 0.053043607398805065, 1), (u'case', 0.05171331664513871, 1), (u'its', 0.05072336263336807, 1), (u'design_variable', 0.045009313296414076, 1), (u'method', 0.04402223715554392, 3), (u'topology_optimization', 0.04050744165689113, 1), (u'optimization_problem', 0.03949312425510203, 1), (u'algorithm', 0.0377437649552712, 1), (u'solution', 0.03509031912005731, 1), (u'approach', 0.027851920849321154, 1), (u'problem', 0.0174104585421032, 1), (u'optimization', 0.013139684477848967, 1), (u'design', 0.012745230909975688, 1)] \n",
      "+\n",
      "optimization truss lattice ground_structure method practical_engineering tool improved structural design final topology large_number undesirable thin bar artificial stiffness condition system equation invalid structural system most work field linear material behavior real material nonlinear behavior issue efficient filtering scheme reduced order modeling its application two- dimensional topology_optimization truss network multiple_load case nonlinear constitutive behavior proposed scheme account proper load level optimization_process displacement_field artificial stiffness truss member structure spurious member convergence performance nonlinear solution scheme newton raphson approach line_search convergence addition use reduced order information size structural optimization_problem few iteration improved computational performance instance application our method problem design_variable proposed filter algorithm same optimized structure standard ground_structure method \n",
      "\n",
      "\n",
      "9\n",
      "[(u'piecewise', 0.5086342591203086, 4), (u'point', 0.29242766408411713, 6), (u'limit_state', 0.2545167538684436, 3), (u'classification', 0.24703534599489846, 2), (u'nonlinearity', 0.2301867031746263, 2), (u'failure', 0.22320975141724517, 3), (u'probability_failure', 0.19294148404851327, 2), (u'uncertainty', 0.17100063907331192, 3), (u'ppc', 0.16947821160400642, 1), (u'developed', 0.1635343746382419, 2), (u'intended', 0.15310673742899503, 1), (u'classifier', 0.15310673742899503, 1), (u'critical', 0.15230721994450058, 2), (u'surface', 0.13255205576058196, 2), (u'functionality', 0.13146482576232457, 1), (u'event', 0.12715856478007714, 1), (u'efficacy', 0.12715856478007714, 1), (u'reliability', 0.11734611343840808, 2), (u'learning', 0.11509335158731315, 1), (u'probable_point', 0.11284221619926803, 1), (u'source', 0.10714619882243785, 1), (u'sample_point', 0.10399231490396085, 1)] \n",
      "+\n",
      "[(u'distance', 0.09872187741230179, 1), (u'first_order', 0.09163369365725275, 1), (u'all', 0.08689404355035016, 1), (u'probability', 0.08483891795614786, 1), (u'idea', 0.08419178036268588, 1), (u'case_study', 0.08419178036268588, 1), (u'measure', 0.07854140366595978, 1), (u'sampling', 0.07615360997225029, 1), (u'region', 0.06814165869045093, 1), (u'search', 0.06510941818903092, 1), (u'various', 0.0642707841306151, 1), (u'linear', 0.0629360197157159, 1), (u'size', 0.061672668080031565, 1), (u'large', 0.06142790895081381, 1), (u'work', 0.057821827851870164, 1), (u'nonlinear', 0.05620622079452966, 1), (u'simulation', 0.05620622079452966, 1), (u'approximation', 0.05433070857240493, 1), (u'set', 0.05310118703742572, 1), (u'process', 0.046435125794401906, 1), (u'method', 0.03963921867358543, 3), (u'system', 0.03716151729488841, 1), (u'algorithm', 0.0339858546338777, 1), (u'approach', 0.025078879501847378, 1)] \n",
      "+\n",
      "reliability measure probability system intended functionality various source uncertainty piecewise point classification method work uncertainty nonlinear limit_state probability_failure idea set point critical region nonlinearity limit_state piecewise linear approximation ppc first_order reliability method probable_point nonlinearity failure surface sampling limit_state learning algorithm critical point failure surface all point search process distance piecewise point classification method classifier failure event simulation uncertainty probability_failure large size sample_point developed piecewise point case_study efficacy developed approach \n",
      "\n",
      "\n",
      "10\n",
      "[(u'component', 0.49768916000019237, 5), (u'system_level', 0.3108066894824553, 2), (u'metamodels', 0.30688510453983625, 2), (u'converge', 0.26022506572144505, 1), (u'simulate', 0.26022506572144505, 1), (u'steady', 0.22038298296042758, 1), (u'inexpensive', 0.20994995480508025, 1), (u'infill', 0.2018574694663022, 1), (u'global', 0.17024455391203305, 2), (u'efficient', 0.16795990351664628, 2), (u'sense', 0.16451747021923838, 1), (u'coupling', 0.14348987321115936, 1), (u'fast', 0.14348987321115936, 1), (u'kriging', 0.1323386864080725, 1), (u'case_study', 0.12927214283613245, 1), (u'expensive', 0.12644480309175507, 1), (u'deterministic', 0.11835231775297698, 1), (u'sampling', 0.11692994617064778, 1), (u'system', 0.11411919194623303, 2), (u'effectiveness', 0.10462800759617931, 1)] \n",
      "+\n",
      "[(u'type', 0.09321476229479461, 1), (u'criterion', 0.08910480384469122, 1), (u'optimum', 0.0869062018222306, 1), (u'simulation', 0.08630175738687562, 1), (u'engineering', 0.0812722897023255, 1), (u'problem', 0.07221371620755808, 3), (u'variable', 0.07129874422952756, 1), (u'numerical_example', 0.07129874422952756, 1), (u'design_variable', 0.062228684159854, 1), (u'technique', 0.05814629380427433, 1), (u'result', 0.04151727979610064, 1), (u'approach', 0.03850732790263972, 1), (u'optimization', 0.036333159315156384, 2)] \n",
      "+\n",
      "approach efficient optimization system component expensive simulate component inexpensive system_level simulation type problem component system problem sense coupling variable design_variable component component metamodels kriging metamodels system_level infill sampling criterion efficient global optimization effectiveness technique numerical_example engineering case_study result steady fast converge global deterministic optimum problem \n",
      "\n",
      "\n"
     ]
    }
   ],
   "source": [
    "j = 0\n",
    "for s in texts2[j:j+10]:\n",
    "    s_bow = dictionary.doc2bow(s)\n",
    "    s_tfidf = tfidf[s_bow]\n",
    "    s_tfidf_sorted = sorted(s_tfidf, key=operator.itemgetter(1), reverse=True)\n",
    "    s_freq = {}\n",
    "    for t in s_bow:\n",
    "        s_freq[t[0]] = t[1]\n",
    "    \n",
    "    j += 1\n",
    "    print j\n",
    "    print [(dictionary[i], val, s_freq[i]) for (i,val) in s_tfidf_sorted if val >= 0.1], \"\\n+\"\n",
    "    print [(dictionary[i], val, s_freq[i]) for (i,val) in s_tfidf_sorted if val < 0.1], \"\\n+\"\n",
    "    print \" \".join(s), \"\\n\\n\"\n",
    "    "
   ]
  }
 ],
 "metadata": {
  "kernelspec": {
   "display_name": "Python 2",
   "language": "python",
   "name": "python2"
  },
  "language_info": {
   "codemirror_mode": {
    "name": "ipython",
    "version": 2
   },
   "file_extension": ".py",
   "mimetype": "text/x-python",
   "name": "python",
   "nbconvert_exporter": "python",
   "pygments_lexer": "ipython2",
   "version": "2.7.11"
  }
 },
 "nbformat": 4,
 "nbformat_minor": 0
}
